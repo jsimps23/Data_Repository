{
 "cells": [
  {
   "cell_type": "code",
   "execution_count": 561,
   "id": "b92151e8",
   "metadata": {
    "scrolled": false
   },
   "outputs": [
    {
     "name": "stdout",
     "output_type": "stream",
     "text": [
      "How many calories does the food have? 100\n",
      "How many grams of fat does the food have? 1\n",
      "The percentage of calories from fat is 9.0%\n",
      "Enter anything other than X to run again. Enter X to quit:X\n"
     ]
    }
   ],
   "source": [
    "## debugging question 1\n",
    "\"\"\"\n",
    "   fatCalories = fatGrams * 9\n",
    "   fatPercentage = fatCalories / calories\n",
    "   When debugged, the program should display a percentage of calories from fat of 90.0% \n",
    "   if calories = 100 and fat grams = 10.\n",
    "   The program should run over and over as long as the user doesn't respond to\n",
    "   again_input question with 'X'\n",
    "\"\"\"\n",
    "\n",
    "\n",
    "# Fat calculator function\n",
    "def fat_calc():     ## reworked fat calc function\n",
    "    again_input = []\n",
    "    while again_input != 'X':\n",
    "        calories = 0  # Number of calories\n",
    "        fat_grams = 0  # Number of fat grams\n",
    "        fat_calories = 0  # Calories from fat\n",
    "        fat_percentage = 0  # Percentage of fat calories\n",
    "        \n",
    "        # Get the number of calories.\n",
    "        calories = float(input(\"How many calories does the food have? \")) ## passed input to float\n",
    " \n",
    "        # Get the number of fat grams.\n",
    "        fat_grams = float(input(\"How many grams of fat does the food have? \")) ## passed input to float\n",
    "\n",
    "        # calculate the fatCalorie\n",
    "        fat_calories = fat_grams * 9 ## fixed * operator\n",
    "\n",
    "        # Calculate percentage of calories from fat.\n",
    "        fat_percentage = fat_calories / calories\n",
    "        \n",
    "        # display the results\n",
    "        print(\"The percentage of calories from fat is \" + str(fat_percentage * 100) + '%') ## fixed string output\n",
    "        again_input = input(\"Enter anything other than X to run again. Enter X to quit:\") \n",
    "        \n",
    "fat_calc() ## called the function\n"
   ]
  },
  {
   "cell_type": "code",
   "execution_count": 560,
   "id": "6b6f5d9b",
   "metadata": {},
   "outputs": [
    {
     "name": "stdout",
     "output_type": "stream",
     "text": [
      "This program converts measurements in cups to fluid ounces.\n",
      "For your reference the formula is:1 cup = 8 fluid ounces\n",
      "Enter the number of cups: 2\n",
      "That converts to 16.0 ounces.\n"
     ]
    }
   ],
   "source": [
    "## debugging question 2\n",
    "# This program converts cups to fluid ounces.\n",
    "# 1 cup = 8 fl. oz., so the number of cups should be multiplied by 8 to get the number of fl. oz.\n",
    "# An entered value of 2 cups should cause the program to print \"That converts to 16 ounces.\"\n",
    "# The intro function displays an introductory screen.\n",
    "# The cups_to_ounces function accepts a number of\n",
    "# cups and displays the equivalent number of ounces.\n",
    "\n",
    "def cups_to_ounces(cups_needed):        ## changed order of functions\n",
    "    ounces = cups_needed * 8  ## fixed * operator\n",
    "    print('That converts to ' + str(ounces) + ' ounces.') ## fixed string output- str(ounces) instead of ounces\n",
    "\n",
    "def intro():\n",
    "    print('This program converts measurements in cups to fluid ounces.')\n",
    "    print('For your reference the formula is:1 cup = 8 fluid ounces') ## removed extra spaces and reorderd\n",
    "\n",
    "def main():\n",
    "    # display the intro screen.\n",
    "    intro()\n",
    "    # Get the number of cups.\n",
    "    cups_needed = float(input('Enter the number of cups: ')) ## added float\n",
    "    # Convert the cups to ounces.\n",
    "    cups_to_ounces(cups_needed)\n",
    "\n",
    "\n",
    "\n",
    "# Call the main function.\n",
    "main()"
   ]
  },
  {
   "cell_type": "code",
   "execution_count": 558,
   "id": "6e5c11d9",
   "metadata": {
    "scrolled": true
   },
   "outputs": [
    {
     "name": "stdout",
     "output_type": "stream",
     "text": [
      "Input exam grade one: 95\n",
      "Input exam grade two: 91\n",
      "Input exam grade three: 92\n",
      "Exams: 95\n",
      "Exams: 91\n",
      "Exams: 92\n",
      "Average: 92\n",
      "Grade: A\n",
      "Student is passing.\n"
     ]
    }
   ],
   "source": [
    "## debugging question 3\n",
    "# Write a program that will take the average of 3 exam grades\n",
    "# in numeric form anywhere from 0-100 and return an average test score,\n",
    "# a corresponding letter grade (A, B, C, D, or F), and a message\n",
    "# that states whether the student is passing or failing.\n",
    "\n",
    "# Average grades should correspond to letter grades following this chart:\n",
    "# 90+\tA\n",
    "# 80-89\tB\n",
    "# 70-79\tC\n",
    "# 60-69\tD\n",
    "# 0-59\tF\n",
    "# If the student has an F in the class, they are failing. Otherwise, they are passing.\n",
    "\n",
    "# Examples of proper output:\n",
    "\n",
    "# Exams: 89, 90, 90\n",
    "# Average: 90\n",
    "# Grade: A\n",
    "# This student is passing.\n",
    "\n",
    "# Exams: 50, 51, 0\n",
    "# Average: 33\n",
    "# Grade: F\n",
    "# This student is failing.\n",
    "\n",
    "exam_1 = int(input(\"Input exam grade one: \"))   #changed all exam variables to be int(input)\n",
    "exam_2 = int(input(\"Input exam grade two: \"))\n",
    "exam_3 = int(input(\"Input exam grade three: \"))\n",
    "\n",
    "grades = [exam_1 , exam_2, exam_3] #fixed list\n",
    "sum = 0\n",
    "\n",
    "for grade in grades:   ## fixed for loop\n",
    "    sum += grade       ## fixed counter\n",
    "\n",
    "avg_grade = int(sum / len(grades))   ## changed av_grade to avg_grade, fixed avg calculation\n",
    "\n",
    "if avg_grade >= 90:\n",
    "    letter_grade = \"A\"                     ## fixed syntax of if, elif statement\n",
    "elif avg_grade >= 80 and avg_grade < 90:\n",
    "    letter_grade = \"B\"\n",
    "elif avg_grade >= 69 and avg_grade < 80:\n",
    "    letter_grade = \"C\"\n",
    "elif avg_grade < 69 and avg_grade >= 60:\n",
    "    letter_grade = \"D\"\n",
    "else:\n",
    "    letter_grade = \"F\"\n",
    "\n",
    "for grade in grades:\n",
    "    print(\"Exams: \" + str(grade))\n",
    "\n",
    "print(\"Average: \" + str(avg_grade)) ##changed str(avg) to str(avg_grade)\n",
    "\n",
    "print(\"Grade: \" + letter_grade)\n",
    "\n",
    "if letter_grade == \"F\":\n",
    "    print(\"Student is failing.\")\n",
    "else:                      ##fixed if, else syntax\n",
    "    print(\"Student is passing.\")"
   ]
  },
  {
   "cell_type": "code",
   "execution_count": 556,
   "id": "4baf9077",
   "metadata": {},
   "outputs": [
    {
     "name": "stdout",
     "output_type": "stream",
     "text": [
      "The capital of Maryland is Annapolis.\n",
      "The capital of California is Sacramento.\n",
      "The capital of New York is Albany.\n",
      "The capital of Utah is Salt Lake City.\n",
      "The capital of Alabama is Montgomery.\n"
     ]
    }
   ],
   "source": [
    "## debugging question 4\n",
    "'''\n",
    "The capital of Maryland is Annapolis.\n",
    "The capital of California is Sacramento.\n",
    "The capital of New York is Albany.\n",
    "The capital of Utah is Salt Lake City.\n",
    "The capital of Alabama is Montgomery.\n",
    "'''\n",
    "def capitals_func():\n",
    "    states_names = [\"Maryland\", \"California\", \"New York\", \"Utah\", \"Alabama\"] ## removed +, fixed New York\n",
    "    capitals = [\"Annapolis\", \"Sacramento\", \"Albany\", \"Salt Lake City\", \"Montgomery\"] ## fixed }\n",
    "\n",
    "    for i in range(len(capitals)): #changed length to len\n",
    "        print(\"The capital of\" + \" \" + states_names[i] + \" is \" + capitals[i] + \".\") ## replaced * with + where appropriate\n",
    "          #added () to print        #changed states to states_names       \n",
    "capitals_func() #called function correctly"
   ]
  },
  {
   "cell_type": "markdown",
   "id": "ac41283f",
   "metadata": {},
   "source": [
    "## Programming Q1. Write a program to find all numbers between 0 and 5,000 (inclusive) that are multiples of 7 and also divisible by 17. Use a list to hold the numbers you find, and either print the list at the end, or use a for loop to iterate over the list and print each number on a new line (if you want it to look neater).\n"
   ]
  },
  {
   "cell_type": "code",
   "execution_count": 107,
   "id": "dbff6289",
   "metadata": {},
   "outputs": [
    {
     "data": {
      "text/plain": [
       "[0,\n",
       " 119,\n",
       " 238,\n",
       " 357,\n",
       " 476,\n",
       " 595,\n",
       " 714,\n",
       " 833,\n",
       " 952,\n",
       " 1071,\n",
       " 1190,\n",
       " 1309,\n",
       " 1428,\n",
       " 1547,\n",
       " 1666,\n",
       " 1785,\n",
       " 1904,\n",
       " 2023,\n",
       " 2142,\n",
       " 2261,\n",
       " 2380,\n",
       " 2499,\n",
       " 2618,\n",
       " 2737,\n",
       " 2856,\n",
       " 2975,\n",
       " 3094,\n",
       " 3213,\n",
       " 3332,\n",
       " 3451,\n",
       " 3570,\n",
       " 3689,\n",
       " 3808,\n",
       " 3927,\n",
       " 4046,\n",
       " 4165,\n",
       " 4284,\n",
       " 4403,\n",
       " 4522,\n",
       " 4641,\n",
       " 4760,\n",
       " 4879,\n",
       " 4998]"
      ]
     },
     "execution_count": 107,
     "metadata": {},
     "output_type": "execute_result"
    }
   ],
   "source": [
    "## Blank list\n",
    "list = []\n",
    "\n",
    "## For loop to identify multiples of 7 divisible by 17\n",
    "for i in range(0,5001):\n",
    "    if i%17 == 0 and i%7 == 0:\n",
    "       list.append(i)\n",
    "    \n",
    "list"
   ]
  },
  {
   "cell_type": "markdown",
   "id": "aca98618",
   "metadata": {},
   "source": [
    "## Programming Q2.Write a program to print this pattern using nested for loops:\n",
    "\n",
    "* \n",
    "* * \n",
    "* * * \n",
    "* * * * \n",
    "* * * * * \n",
    "* * * * \n",
    "* * * \n",
    "* * \n",
    "*"
   ]
  },
  {
   "cell_type": "code",
   "execution_count": 201,
   "id": "0bbb88dc",
   "metadata": {},
   "outputs": [
    {
     "name": "stdout",
     "output_type": "stream",
     "text": [
      "* \n",
      "* * \n",
      "* * * \n",
      "* * * * \n",
      "* * * * * \n",
      "* * * * \n",
      "* * * \n",
      "* * \n",
      "* \n",
      "\n"
     ]
    }
   ],
   "source": [
    "## Max count of starts\n",
    "dist = range(0, 5)\n",
    "\n",
    "## Nested for loops to make the pattern\n",
    "for i in dist:\n",
    "    for r in range(0, i + 1):\n",
    "        print('*', end = ' ')\n",
    "    print()\n",
    "for i in dist:\n",
    "    for r in range(3, i - 1, -1):\n",
    "        print('*', end = ' ')\n",
    "    print()"
   ]
  },
  {
   "cell_type": "markdown",
   "id": "7e81b0eb",
   "metadata": {},
   "source": [
    "## Programming Q3.Write a program that defines a function named find_odd taking one parameter called input_list, to locate and print all the odd numbers in a given list. You will need to iterate over the list. Paste the following line into the start of your program before you define your function, and call the function at the end of your program with this variable as an argument:"
   ]
  },
  {
   "cell_type": "code",
   "execution_count": 555,
   "id": "b68611bf",
   "metadata": {},
   "outputs": [
    {
     "data": {
      "text/plain": [
       "[17, 15, 3, 79, 5, 21, 41, 83]"
      ]
     },
     "execution_count": 555,
     "metadata": {},
     "output_type": "execute_result"
    }
   ],
   "source": [
    "test_list = [18, 17, 15, 10, 10, 2, 3, 86, 79, 4, 5, 4, 8, 21, 30, 41, 72, 83, 106, 24]\n",
    "output_list = []\n",
    "\n",
    "## function to identify odd numbers in a list\n",
    "def find_odd(input_list):\n",
    "    for i in input_list:\n",
    "        if (i%2) !=0:\n",
    "            output_list.append(i)\n",
    "        \n",
    "find_odd(test_list)\n",
    "output_list\n",
    "        \n",
    "\n"
   ]
  },
  {
   "cell_type": "markdown",
   "id": "bd7b2e93",
   "metadata": {},
   "source": [
    "## Programming Q4. Write a program that defines a function called mean_compare that takes two arguments list_1 and list_2, both lists of floats. It takes the average of the contents of each list, and compares the two averages. It should return a string. The following are the possible string outputs it should have, with \"m1\" and \"m2\" standing in for the actual means (averages) you calculated.\n",
    "\n",
    "List 1 (mean value: m1) has a greater mean than list 2 (mean value: m2).\n",
    "List 2 (mean value: m2) has a greater mean than list 1 (mean value: m1).\n",
    "The means of both lists are equal to: m1 or m2 [it doesn't matter which variable you insert here since they are the same in this case.]\n",
    "\n",
    "Do not use the built-in sum() or averaging functions for this. Use loops, conditionals, and comparison operators to solve the problem.\n",
    "\n",
    "Here are the two test lists you should use, although it is recommended to try it on other lists of floats to make sure it works on all appropriate lists.\n",
    "data_1 = [1.5, 2.0, 3.5, 4, 6.6, 7.8, 1.0, 1.9, 3.8, 3.7, 4.3]\n",
    "data_2 = [2.3, 6.4, 10.9, 0.8, 0.5, 2.7, 3.4, 9.0, 4.0, 3.5,  8.2]\n",
    "\n",
    "Don't forget to call the function in a print statement at the end, since it does not print the output string, but RETURNS it."
   ]
  },
  {
   "cell_type": "code",
   "execution_count": 512,
   "id": "5feb9b63",
   "metadata": {},
   "outputs": [],
   "source": [
    "data_1 = [1.5, 2.0, 3.5, 4, 6.6, 7.8, 1.0, 1.9, 3.8, 3.7, 4.3]\n",
    "data_2 = [2.3, 6.4, 10.9, 0.8, 0.5, 2.7, 3.4, 9.0, 4.0, 3.5, 8.2]\n",
    "\n",
    "## function to calculate and compare the mean of two lists\n",
    "\n",
    "def mean_compare(list1, list2):\n",
    "    sum1 = 0\n",
    "    sum2 = 0\n",
    "    \n",
    "    ## Mean of list 1\n",
    "    for i in list1:\n",
    "        sum1 += i\n",
    "        avg1 = sum1/(len(list1))\n",
    "    ## Mean of list 2\n",
    "    for c in list2:\n",
    "        sum2 += c\n",
    "        avg2 = sum2/(len(list2))\n",
    "    ## prints statement depending on values of the averages of both lists\n",
    "    \n",
    "    if avg1 > avg2:\n",
    "        print('List 1 (mean value: m1) has a greater mean than list 2 (mean value: m2).')\n",
    "    elif avg2 > avg1:\n",
    "        print('List 2 (mean value: m2) has a greater mean than list 1 (mean value: m1).')\n",
    "    elif avg1 == avg2:\n",
    "        print('The means of both lists are equal to: m1 or m2')\n"
   ]
  },
  {
   "cell_type": "code",
   "execution_count": 553,
   "id": "f9effef2",
   "metadata": {},
   "outputs": [
    {
     "data": {
      "text/plain": [
       "[414, 268, 653, 855, 626, 489, 204, 624, 964, 477, 479, 121, 522, 461, 957]"
      ]
     },
     "execution_count": 553,
     "metadata": {},
     "output_type": "execute_result"
    }
   ],
   "source": [
    "## random numbered list generation for testing\n",
    "\n",
    "import random as rand\n",
    "import pandas as pd\n",
    "\n",
    "data_3 = []\n",
    "data_4 = []\n",
    "\n",
    "for i in range(0, 15): \n",
    "    data_3.append(rand.randrange(0,1000))\n",
    "    data_4.append(rand.randrange(0,1000))\n",
    "\n",
    "data_3"
   ]
  },
  {
   "cell_type": "code",
   "execution_count": 542,
   "id": "5fdb5a4d",
   "metadata": {},
   "outputs": [
    {
     "name": "stdout",
     "output_type": "stream",
     "text": [
      "List 1 (mean value: m1) has a greater mean than list 2 (mean value: m2).\n"
     ]
    }
   ],
   "source": [
    "## outputs\n",
    "mean_compare(data_3, data_4)"
   ]
  },
  {
   "cell_type": "code",
   "execution_count": 546,
   "id": "64422836",
   "metadata": {},
   "outputs": [
    {
     "name": "stdout",
     "output_type": "stream",
     "text": [
      "List 2 (mean value: m2) has a greater mean than list 1 (mean value: m1).\n"
     ]
    }
   ],
   "source": [
    "## outputs\n",
    "mean_compare(data_3, data_4)"
   ]
  },
  {
   "cell_type": "code",
   "execution_count": 554,
   "id": "9a85eb2a",
   "metadata": {},
   "outputs": [
    {
     "name": "stdout",
     "output_type": "stream",
     "text": [
      "List 1 (mean value: m1) has a greater mean than list 2 (mean value: m2).\n"
     ]
    }
   ],
   "source": [
    "## outputs\n",
    "mean_compare(data_3, data_4)"
   ]
  }
 ],
 "metadata": {
  "kernelspec": {
   "display_name": "Python 3 (ipykernel)",
   "language": "python",
   "name": "python3"
  },
  "language_info": {
   "codemirror_mode": {
    "name": "ipython",
    "version": 3
   },
   "file_extension": ".py",
   "mimetype": "text/x-python",
   "name": "python",
   "nbconvert_exporter": "python",
   "pygments_lexer": "ipython3",
   "version": "3.9.12"
  }
 },
 "nbformat": 4,
 "nbformat_minor": 5
}
