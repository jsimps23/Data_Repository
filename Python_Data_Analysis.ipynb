{
 "cells": [
  {
   "cell_type": "code",
   "execution_count": 12,
   "id": "12a9625e",
   "metadata": {},
   "outputs": [],
   "source": [
    "import pandas as pd\n",
    "import numpy as num\n",
    "import matplotlib.pyplot as plt\n",
    "import os\n",
    "from statistics import mean\n",
    "df = pd.read_csv(\"C:\\\\Users\\\\Default\\\\Python\\\\car.data(1).csv\")\n",
    "pd.set_option('display.max_rows', 100)"
   ]
  },
  {
   "cell_type": "code",
   "execution_count": 13,
   "id": "bc272887",
   "metadata": {},
   "outputs": [
    {
     "data": {
      "text/plain": [
       "['buying', 'maint', 'doors', 'persons', 'lug_boot', 'safety', 'class']"
      ]
     },
     "execution_count": 13,
     "metadata": {},
     "output_type": "execute_result"
    }
   ],
   "source": [
    "list(df.columns.values)"
   ]
  },
  {
   "cell_type": "code",
   "execution_count": 14,
   "id": "489d7b63",
   "metadata": {},
   "outputs": [
    {
     "data": {
      "text/plain": [
       "3"
      ]
     },
     "execution_count": 14,
     "metadata": {},
     "output_type": "execute_result"
    }
   ],
   "source": [
    "df2 = df[df['doors'] != \"5more\"]\n",
    "pd.DataFrame(df2)\n",
    "mean(df2['doors'].astype(int))"
   ]
  },
  {
   "cell_type": "code",
   "execution_count": 15,
   "id": "f1c471be",
   "metadata": {},
   "outputs": [
    {
     "data": {
      "text/plain": [
       "3.0588235294117645"
      ]
     },
     "execution_count": 15,
     "metadata": {},
     "output_type": "execute_result"
    }
   ],
   "source": [
    "df3 = df[(df['class'] == 'good') & (df['doors'] != '5more')]\n",
    "pd.DataFrame(df3)\n",
    "mean(df3['doors'].astype(int))"
   ]
  },
  {
   "cell_type": "code",
   "execution_count": 16,
   "id": "e4f2035e",
   "metadata": {
    "scrolled": true
   },
   "outputs": [
    {
     "data": {
      "text/plain": [
       "array(['vhigh', 'high', 'med', 'low'], dtype=object)"
      ]
     },
     "execution_count": 16,
     "metadata": {},
     "output_type": "execute_result"
    }
   ],
   "source": [
    "df['buying'].unique()\n"
   ]
  },
  {
   "cell_type": "code",
   "execution_count": 17,
   "id": "c42f75fa",
   "metadata": {},
   "outputs": [
    {
     "data": {
      "text/plain": [
       "576"
      ]
     },
     "execution_count": 17,
     "metadata": {},
     "output_type": "execute_result"
    }
   ],
   "source": [
    "df4 = df[df['persons'] == 'more']\n",
    "len(df4.index)"
   ]
  },
  {
   "cell_type": "code",
   "execution_count": 18,
   "id": "43ff764f",
   "metadata": {},
   "outputs": [
    {
     "name": "stdout",
     "output_type": "stream",
     "text": [
      "    buying  maint  doors persons lug_boot safety  class\n",
      "0    vhigh  vhigh      2       2    small    low  unacc\n",
      "1    vhigh  vhigh      2       2    small    med  unacc\n",
      "2    vhigh  vhigh      2       2    small   high  unacc\n",
      "3    vhigh  vhigh      2       2      med    low  unacc\n",
      "4    vhigh  vhigh      2       2      med    med  unacc\n",
      "..     ...    ...    ...     ...      ...    ...    ...\n",
      "427  vhigh    low  5more    more      med    med    acc\n",
      "428  vhigh    low  5more    more      med   high    acc\n",
      "429  vhigh    low  5more    more      big    low  unacc\n",
      "430  vhigh    low  5more    more      big    med    acc\n",
      "431  vhigh    low  5more    more      big   high    acc\n",
      "\n",
      "[432 rows x 7 columns]\n",
      "    buying  maint  doors persons lug_boot safety  class\n",
      "432   high  vhigh      2       2    small    low  unacc\n",
      "433   high  vhigh      2       2    small    med  unacc\n",
      "434   high  vhigh      2       2    small   high  unacc\n",
      "435   high  vhigh      2       2      med    low  unacc\n",
      "436   high  vhigh      2       2      med    med  unacc\n",
      "..     ...    ...    ...     ...      ...    ...    ...\n",
      "859   high    low  5more    more      med    med    acc\n",
      "860   high    low  5more    more      med   high    acc\n",
      "861   high    low  5more    more      big    low  unacc\n",
      "862   high    low  5more    more      big    med    acc\n",
      "863   high    low  5more    more      big   high    acc\n",
      "\n",
      "[432 rows x 7 columns]\n",
      "     buying  maint  doors persons lug_boot safety  class\n",
      "864     med  vhigh      2       2    small    low  unacc\n",
      "865     med  vhigh      2       2    small    med  unacc\n",
      "866     med  vhigh      2       2    small   high  unacc\n",
      "867     med  vhigh      2       2      med    low  unacc\n",
      "868     med  vhigh      2       2      med    med  unacc\n",
      "...     ...    ...    ...     ...      ...    ...    ...\n",
      "1291    med    low  5more    more      med    med   good\n",
      "1292    med    low  5more    more      med   high  vgood\n",
      "1293    med    low  5more    more      big    low  unacc\n",
      "1294    med    low  5more    more      big    med   good\n",
      "1295    med    low  5more    more      big   high  vgood\n",
      "\n",
      "[432 rows x 7 columns]\n",
      "     buying  maint  doors persons lug_boot safety  class\n",
      "1296    low  vhigh      2       2    small    low  unacc\n",
      "1297    low  vhigh      2       2    small    med  unacc\n",
      "1298    low  vhigh      2       2    small   high  unacc\n",
      "1299    low  vhigh      2       2      med    low  unacc\n",
      "1300    low  vhigh      2       2      med    med  unacc\n",
      "...     ...    ...    ...     ...      ...    ...    ...\n",
      "1723    low    low  5more    more      med    med   good\n",
      "1724    low    low  5more    more      med   high  vgood\n",
      "1725    low    low  5more    more      big    low  unacc\n",
      "1726    low    low  5more    more      big    med   good\n",
      "1727    low    low  5more    more      big   high  vgood\n",
      "\n",
      "[432 rows x 7 columns]\n"
     ]
    },
    {
     "data": {
      "text/html": [
       "<div>\n",
       "<style scoped>\n",
       "    .dataframe tbody tr th:only-of-type {\n",
       "        vertical-align: middle;\n",
       "    }\n",
       "\n",
       "    .dataframe tbody tr th {\n",
       "        vertical-align: top;\n",
       "    }\n",
       "\n",
       "    .dataframe thead th {\n",
       "        text-align: right;\n",
       "    }\n",
       "</style>\n",
       "<table border=\"1\" class=\"dataframe\">\n",
       "  <thead>\n",
       "    <tr style=\"text-align: right;\">\n",
       "      <th></th>\n",
       "      <th>buying</th>\n",
       "      <th>maint</th>\n",
       "      <th>doors</th>\n",
       "      <th>persons</th>\n",
       "      <th>lug_boot</th>\n",
       "      <th>safety</th>\n",
       "      <th>class</th>\n",
       "    </tr>\n",
       "  </thead>\n",
       "  <tbody>\n",
       "    <tr>\n",
       "      <th>0</th>\n",
       "      <td>vhigh</td>\n",
       "      <td>vhigh</td>\n",
       "      <td>2</td>\n",
       "      <td>2</td>\n",
       "      <td>small</td>\n",
       "      <td>low</td>\n",
       "      <td>unacc</td>\n",
       "    </tr>\n",
       "    <tr>\n",
       "      <th>1</th>\n",
       "      <td>vhigh</td>\n",
       "      <td>vhigh</td>\n",
       "      <td>2</td>\n",
       "      <td>2</td>\n",
       "      <td>small</td>\n",
       "      <td>med</td>\n",
       "      <td>unacc</td>\n",
       "    </tr>\n",
       "    <tr>\n",
       "      <th>2</th>\n",
       "      <td>vhigh</td>\n",
       "      <td>vhigh</td>\n",
       "      <td>2</td>\n",
       "      <td>2</td>\n",
       "      <td>small</td>\n",
       "      <td>high</td>\n",
       "      <td>unacc</td>\n",
       "    </tr>\n",
       "    <tr>\n",
       "      <th>3</th>\n",
       "      <td>vhigh</td>\n",
       "      <td>vhigh</td>\n",
       "      <td>2</td>\n",
       "      <td>2</td>\n",
       "      <td>med</td>\n",
       "      <td>low</td>\n",
       "      <td>unacc</td>\n",
       "    </tr>\n",
       "    <tr>\n",
       "      <th>4</th>\n",
       "      <td>vhigh</td>\n",
       "      <td>vhigh</td>\n",
       "      <td>2</td>\n",
       "      <td>2</td>\n",
       "      <td>med</td>\n",
       "      <td>med</td>\n",
       "      <td>unacc</td>\n",
       "    </tr>\n",
       "    <tr>\n",
       "      <th>...</th>\n",
       "      <td>...</td>\n",
       "      <td>...</td>\n",
       "      <td>...</td>\n",
       "      <td>...</td>\n",
       "      <td>...</td>\n",
       "      <td>...</td>\n",
       "      <td>...</td>\n",
       "    </tr>\n",
       "    <tr>\n",
       "      <th>427</th>\n",
       "      <td>vhigh</td>\n",
       "      <td>low</td>\n",
       "      <td>5more</td>\n",
       "      <td>more</td>\n",
       "      <td>med</td>\n",
       "      <td>med</td>\n",
       "      <td>acc</td>\n",
       "    </tr>\n",
       "    <tr>\n",
       "      <th>428</th>\n",
       "      <td>vhigh</td>\n",
       "      <td>low</td>\n",
       "      <td>5more</td>\n",
       "      <td>more</td>\n",
       "      <td>med</td>\n",
       "      <td>high</td>\n",
       "      <td>acc</td>\n",
       "    </tr>\n",
       "    <tr>\n",
       "      <th>429</th>\n",
       "      <td>vhigh</td>\n",
       "      <td>low</td>\n",
       "      <td>5more</td>\n",
       "      <td>more</td>\n",
       "      <td>big</td>\n",
       "      <td>low</td>\n",
       "      <td>unacc</td>\n",
       "    </tr>\n",
       "    <tr>\n",
       "      <th>430</th>\n",
       "      <td>vhigh</td>\n",
       "      <td>low</td>\n",
       "      <td>5more</td>\n",
       "      <td>more</td>\n",
       "      <td>big</td>\n",
       "      <td>med</td>\n",
       "      <td>acc</td>\n",
       "    </tr>\n",
       "    <tr>\n",
       "      <th>431</th>\n",
       "      <td>vhigh</td>\n",
       "      <td>low</td>\n",
       "      <td>5more</td>\n",
       "      <td>more</td>\n",
       "      <td>big</td>\n",
       "      <td>high</td>\n",
       "      <td>acc</td>\n",
       "    </tr>\n",
       "  </tbody>\n",
       "</table>\n",
       "<p>432 rows × 7 columns</p>\n",
       "</div>"
      ],
      "text/plain": [
       "    buying  maint  doors persons lug_boot safety  class\n",
       "0    vhigh  vhigh      2       2    small    low  unacc\n",
       "1    vhigh  vhigh      2       2    small    med  unacc\n",
       "2    vhigh  vhigh      2       2    small   high  unacc\n",
       "3    vhigh  vhigh      2       2      med    low  unacc\n",
       "4    vhigh  vhigh      2       2      med    med  unacc\n",
       "..     ...    ...    ...     ...      ...    ...    ...\n",
       "427  vhigh    low  5more    more      med    med    acc\n",
       "428  vhigh    low  5more    more      med   high    acc\n",
       "429  vhigh    low  5more    more      big    low  unacc\n",
       "430  vhigh    low  5more    more      big    med    acc\n",
       "431  vhigh    low  5more    more      big   high    acc\n",
       "\n",
       "[432 rows x 7 columns]"
      ]
     },
     "execution_count": 18,
     "metadata": {},
     "output_type": "execute_result"
    }
   ],
   "source": [
    "vhigh = df[df['buying'] == 'vhigh']\n",
    "high = df[df['buying'] == 'high']\n",
    "med = df[df['buying'] == 'med']\n",
    "low = df[df['buying'] == 'low']\n",
    "print(vhigh)\n",
    "print(high)\n",
    "print(med)\n",
    "print(low)\n",
    "vhigh"
   ]
  },
  {
   "cell_type": "code",
   "execution_count": 19,
   "id": "b8ac4bfa",
   "metadata": {
    "scrolled": true
   },
   "outputs": [],
   "source": [
    "df1 = pd.read_csv('C:\\\\Users\\\\Default\\\\Python\\\\analytic_v4Y2.csv')"
   ]
  },
  {
   "cell_type": "code",
   "execution_count": 23,
   "id": "cdec256e",
   "metadata": {},
   "outputs": [
    {
     "data": {
      "text/plain": [
       "['AgeAtFirstClaim',\n",
       " 'Sex',\n",
       " 'memberid',\n",
       " 'AMI',\n",
       " 'APPCHOL',\n",
       " 'ARTHSPIN',\n",
       " 'CANCRA',\n",
       " 'CANCRB',\n",
       " 'CANCRM',\n",
       " 'CATAST',\n",
       " 'CHF',\n",
       " 'COPD',\n",
       " 'FLaELEC',\n",
       " 'FXDISLC',\n",
       " 'GIBLEED',\n",
       " 'GIOBSENT',\n",
       " 'GYNEC1',\n",
       " 'GYNECA',\n",
       " 'HEART2',\n",
       " 'HEART4',\n",
       " 'HEMTOL',\n",
       " 'HIPFX',\n",
       " 'INFEC4',\n",
       " 'LIVERDZ',\n",
       " 'METAB1',\n",
       " 'METAB3',\n",
       " 'MISCHRT',\n",
       " 'MISCL1',\n",
       " 'MISCL5',\n",
       " 'MSC2a3',\n",
       " 'NEUMENT',\n",
       " 'ODaBNCA',\n",
       " 'PERINTL',\n",
       " 'PERVALV',\n",
       " 'PNCRDZ',\n",
       " 'PNEUM',\n",
       " 'PRGNCY',\n",
       " 'RENAL1',\n",
       " 'RENAL2',\n",
       " 'RENAL3',\n",
       " 'RESPR4',\n",
       " 'ROAMI',\n",
       " 'SEIZURE',\n",
       " 'SEPSIS',\n",
       " 'SKNAUT',\n",
       " 'STROKE',\n",
       " 'TRAUMA',\n",
       " 'UTI',\n",
       " 'tot_labcount',\n",
       " 'tot_drugcount',\n",
       " 'hosp2Y',\n",
       " 'hosp3Y']"
      ]
     },
     "execution_count": 23,
     "metadata": {},
     "output_type": "execute_result"
    }
   ],
   "source": [
    "list(df1.columns.values)"
   ]
  },
  {
   "cell_type": "code",
   "execution_count": 24,
   "id": "c4089b00",
   "metadata": {
    "scrolled": true
   },
   "outputs": [
    {
     "data": {
      "text/plain": [
       "F    51482\n",
       "M    43966\n",
       "Name: Sex, dtype: int64"
      ]
     },
     "execution_count": 24,
     "metadata": {},
     "output_type": "execute_result"
    }
   ],
   "source": [
    "df1['Sex'].value_counts()"
   ]
  },
  {
   "cell_type": "code",
   "execution_count": 25,
   "id": "23748727",
   "metadata": {},
   "outputs": [
    {
     "name": "stdout",
     "output_type": "stream",
     "text": [
      "<class 'pandas.core.frame.DataFrame'>\n",
      "RangeIndex: 113000 entries, 0 to 112999\n",
      "Data columns (total 52 columns):\n",
      " #   Column           Non-Null Count   Dtype  \n",
      "---  ------           --------------   -----  \n",
      " 0   AgeAtFirstClaim  107247 non-null  object \n",
      " 1   Sex              95448 non-null   object \n",
      " 2   memberid         76038 non-null   float64\n",
      " 3   AMI              76038 non-null   float64\n",
      " 4   APPCHOL          76038 non-null   float64\n",
      " 5   ARTHSPIN         76038 non-null   float64\n",
      " 6   CANCRA           76038 non-null   float64\n",
      " 7   CANCRB           76038 non-null   float64\n",
      " 8   CANCRM           76038 non-null   float64\n",
      " 9   CATAST           76038 non-null   float64\n",
      " 10  CHF              76038 non-null   float64\n",
      " 11  COPD             76038 non-null   float64\n",
      " 12  FLaELEC          76038 non-null   float64\n",
      " 13  FXDISLC          76038 non-null   float64\n",
      " 14  GIBLEED          76038 non-null   float64\n",
      " 15  GIOBSENT         76038 non-null   float64\n",
      " 16  GYNEC1           76038 non-null   float64\n",
      " 17  GYNECA           76038 non-null   float64\n",
      " 18  HEART2           76038 non-null   float64\n",
      " 19  HEART4           76038 non-null   float64\n",
      " 20  HEMTOL           76038 non-null   float64\n",
      " 21  HIPFX            76038 non-null   float64\n",
      " 22  INFEC4           76038 non-null   float64\n",
      " 23  LIVERDZ          76038 non-null   float64\n",
      " 24  METAB1           76038 non-null   float64\n",
      " 25  METAB3           76038 non-null   float64\n",
      " 26  MISCHRT          76038 non-null   float64\n",
      " 27  MISCL1           76038 non-null   float64\n",
      " 28  MISCL5           76038 non-null   float64\n",
      " 29  MSC2a3           76038 non-null   float64\n",
      " 30  NEUMENT          76038 non-null   float64\n",
      " 31  ODaBNCA          76038 non-null   float64\n",
      " 32  PERINTL          76038 non-null   float64\n",
      " 33  PERVALV          76038 non-null   float64\n",
      " 34  PNCRDZ           76038 non-null   float64\n",
      " 35  PNEUM            76038 non-null   float64\n",
      " 36  PRGNCY           76038 non-null   float64\n",
      " 37  RENAL1           76038 non-null   float64\n",
      " 38  RENAL2           76038 non-null   float64\n",
      " 39  RENAL3           76038 non-null   float64\n",
      " 40  RESPR4           76038 non-null   float64\n",
      " 41  ROAMI            76038 non-null   float64\n",
      " 42  SEIZURE          76038 non-null   float64\n",
      " 43  SEPSIS           76038 non-null   float64\n",
      " 44  SKNAUT           76038 non-null   float64\n",
      " 45  STROKE           76038 non-null   float64\n",
      " 46  TRAUMA           76038 non-null   float64\n",
      " 47  UTI              76038 non-null   float64\n",
      " 48  tot_labcount     113000 non-null  int64  \n",
      " 49  tot_drugcount    113000 non-null  int64  \n",
      " 50  hosp2Y           113000 non-null  int64  \n",
      " 51  hosp3Y           113000 non-null  int64  \n",
      "dtypes: float64(46), int64(4), object(2)\n",
      "memory usage: 44.8+ MB\n"
     ]
    }
   ],
   "source": [
    "df1.info()"
   ]
  },
  {
   "cell_type": "code",
   "execution_count": 27,
   "id": "25755652",
   "metadata": {
    "scrolled": true
   },
   "outputs": [
    {
     "data": {
      "text/plain": [
       "<AxesSubplot:>"
      ]
     },
     "execution_count": 27,
     "metadata": {},
     "output_type": "execute_result"
    },
    {
     "data": {
      "image/png": "[encoded data removed]",
      "text/plain": [
       "<Figure size 432x288 with 1 Axes>"
      ]
     },
     "metadata": {
      "needs_background": "light"
     },
     "output_type": "display_data"
    }
   ],
   "source": [
    "df1['AgeAtFirstClaim'].value_counts().plot.bar()"
   ]
  },
  {
   "cell_type": "code",
   "execution_count": 44,
   "id": "16b9c191",
   "metadata": {},
   "outputs": [
    {
     "data": {
      "text/plain": [
       "<AxesSubplot:>"
      ]
     },
     "execution_count": 44,
     "metadata": {},
     "output_type": "execute_result"
    },
    {
     "data": {
      "image/png": "[encoded data removed]",
      "text/plain": [
       "<Figure size 432x288 with 1 Axes>"
      ]
     },
     "metadata": {
      "needs_background": "light"
     },
     "output_type": "display_data"
    }
   ],
   "source": [
    "df1[df1['Sex'] == 'F']['AgeAtFirstClaim'].value_counts().plot.bar()"
   ]
  },
  {
   "cell_type": "code",
   "execution_count": 45,
   "id": "7ce39125",
   "metadata": {},
   "outputs": [
    {
     "data": {
      "text/plain": [
       "<AxesSubplot:>"
      ]
     },
     "execution_count": 45,
     "metadata": {},
     "output_type": "execute_result"
    },
    {
     "data": {
      "image/png": "[encoded data removed]",
      "text/plain": [
       "<Figure size 432x288 with 1 Axes>"
      ]
     },
     "metadata": {
      "needs_background": "light"
     },
     "output_type": "display_data"
    }
   ],
   "source": [
    "df1[df1['Sex'] == 'M']['AgeAtFirstClaim'].value_counts().plot.bar()"
   ]
  },
  {
   "cell_type": "code",
   "execution_count": 74,
   "id": "5d8729a4",
   "metadata": {},
   "outputs": [],
   "source": [
    "df1.replace('40-49', 45, inplace = True)\n",
    "df1.replace('50-59', 55, inplace = True)\n",
    "df1.replace('60-69', 65, inplace = True)\n",
    "df1.replace('70-79', 75, inplace = True)\n",
    "df1.replace('80+', 85, inplace = True)\n",
    "df1.replace('10-19', 15, inplace = True)\n",
    "df1.replace('20-29', 25, inplace = True)\n",
    "df1.replace('30-39', 35, inplace = True)\n",
    "df1.replace('0-9', 5, inplace = True)"
   ]
  },
  {
   "cell_type": "code",
   "execution_count": 76,
   "id": "9090b177",
   "metadata": {},
   "outputs": [
    {
     "data": {
      "text/plain": [
       "45.562533217712385"
      ]
     },
     "execution_count": 76,
     "metadata": {},
     "output_type": "execute_result"
    }
   ],
   "source": [
    "df1['AgeAtFirstClaim'].mean()"
   ]
  }
 ],
 "metadata": {
  "kernelspec": {
   "display_name": "Python 3 (ipykernel)",
   "language": "python",
   "name": "python3"
  },
  "language_info": {
   "codemirror_mode": {
    "name": "ipython",
    "version": 3
   },
   "file_extension": ".py",
   "mimetype": "text/x-python",
   "name": "python",
   "nbconvert_exporter": "python",
   "pygments_lexer": "ipython3",
   "version": "3.9.12"
  }
 },
 "nbformat": 4,
 "nbformat_minor": 5
}
